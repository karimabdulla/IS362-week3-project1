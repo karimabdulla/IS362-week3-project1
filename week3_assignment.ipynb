{
 "cells": [
  {
   "cell_type": "code",
   "execution_count": 2,
   "id": "4fc80a6c",
   "metadata": {},
   "outputs": [
    {
     "name": "stdout",
     "output_type": "stream",
     "text": [
      "Miles each day:\n",
      "0    55\n",
      "1    65\n",
      "2    40\n",
      "3    50\n",
      "4    70\n",
      "5    40\n",
      "dtype: int32\n"
     ]
    }
   ],
   "source": [
    "import pandas as pd\n",
    "import numpy as np\n",
    "cum_miles = np.array([55, 120, 160, 210, 280, 320])\n",
    "cum_series = pd.Series(cum_miles)\n",
    "each_Day = np.array([cum_series[0]])\n",
    "for i in range(1, len(cum_series)):\n",
    "    each_Day = np.append(each_Day, cum_series[i] - cum_series[i - 1])\n",
    "print(\"Miles each day:\")\n",
    "print(pd.Series(each_Day))"
   ]
  },
  {
   "cell_type": "code",
   "execution_count": null,
   "id": "35fde9a7",
   "metadata": {},
   "outputs": [],
   "source": []
  }
 ],
 "metadata": {
  "kernelspec": {
   "display_name": "Python 3 (ipykernel)",
   "language": "python",
   "name": "python3"
  },
  "language_info": {
   "codemirror_mode": {
    "name": "ipython",
    "version": 3
   },
   "file_extension": ".py",
   "mimetype": "text/x-python",
   "name": "python",
   "nbconvert_exporter": "python",
   "pygments_lexer": "ipython3",
   "version": "3.11.4"
  }
 },
 "nbformat": 4,
 "nbformat_minor": 5
}
