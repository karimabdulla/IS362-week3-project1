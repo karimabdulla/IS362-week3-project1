{
 "cells": [
  {
   "cell_type": "code",
   "execution_count": 1,
   "id": "1f2f8cef",
   "metadata": {},
   "outputs": [
    {
     "name": "stdout",
     "output_type": "stream",
     "text": [
      "  Airline                    City    On Time  Delayed\n",
      "0           Alaska    Los Angeles        497       62\n",
      "1            AM WEST  Los Angeles        694      117\n",
      "2           Alaska          Phoenix      221       12\n",
      "3            AM WEST        Phoenix     4840      415\n",
      "4           Alaska        San Diego      212       20\n",
      "5            AM WEST      San Diego      383       65\n",
      "6           Alaska    San Francisco      503      102\n",
      "7            AM WEST  San Francisco      320      129\n",
      "8           Alaska          Seattle     1841      305\n",
      "9            AM WEST        Seattle      201       61\n",
      "  Airline                    City    On Time  Delayed  Total Flights  \\\n",
      "0           Alaska    Los Angeles        497       62            559   \n",
      "1            AM WEST  Los Angeles        694      117            811   \n",
      "2           Alaska          Phoenix      221       12            233   \n",
      "3            AM WEST        Phoenix     4840      415           5255   \n",
      "4           Alaska        San Diego      212       20            232   \n",
      "5            AM WEST      San Diego      383       65            448   \n",
      "6           Alaska    San Francisco      503      102            605   \n",
      "7            AM WEST  San Francisco      320      129            449   \n",
      "8           Alaska          Seattle     1841      305           2146   \n",
      "9            AM WEST        Seattle      201       61            262   \n",
      "\n",
      "   Percent Delay  \n",
      "0      11.091234  \n",
      "1      14.426634  \n",
      "2       5.150215  \n",
      "3       7.897241  \n",
      "4       8.620690  \n",
      "5      14.508929  \n",
      "6      16.859504  \n",
      "7      28.730512  \n",
      "8      14.212488  \n",
      "9      23.282443  \n"
     ]
    }
   ],
   "source": [
    "# this code extracts the data from the csv file.\n",
    "import pandas as pd\n",
    "airline_data = pd.read_csv(\"C:\\\\Users\\\\abdul\\\\OneDrive\\\\Desktop\\\\IS362\\\\project1.csv\")\n",
    "print(airline_data.to_string())\n",
    "# this code compares the delay's percentage of both airlines.\n",
    "# This shows that Alaska has lower percent of delays on all destinations.\n",
    "airline_data[\"Total Flights\"] = airline_data[\"On Time\"] + airline_data[\"Delayed\"]\n",
    "airline_data[\"Percent Delay\"] = (airline_data[\"Delayed\"] / airline_data[\"Total Flights\"]) * 100\n",
    "print(airline_data)\n"
   ]
  },
  {
   "cell_type": "code",
   "execution_count": null,
   "id": "4f6925bf",
   "metadata": {},
   "outputs": [],
   "source": []
  }
 ],
 "metadata": {
  "kernelspec": {
   "display_name": "Python 3 (ipykernel)",
   "language": "python",
   "name": "python3"
  },
  "language_info": {
   "codemirror_mode": {
    "name": "ipython",
    "version": 3
   },
   "file_extension": ".py",
   "mimetype": "text/x-python",
   "name": "python",
   "nbconvert_exporter": "python",
   "pygments_lexer": "ipython3",
   "version": "3.11.4"
  }
 },
 "nbformat": 4,
 "nbformat_minor": 5
}
